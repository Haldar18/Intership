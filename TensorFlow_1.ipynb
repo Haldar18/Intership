{
  "nbformat": 4,
  "nbformat_minor": 0,
  "metadata": {
    "colab": {
      "provenance": [],
      "authorship_tag": "ABX9TyPaXgHVm7vpzc8gyJuNy55Z",
      "include_colab_link": true
    },
    "kernelspec": {
      "name": "python3",
      "display_name": "Python 3"
    },
    "language_info": {
      "name": "python"
    }
  },
  "cells": [
    {
      "cell_type": "markdown",
      "metadata": {
        "id": "view-in-github",
        "colab_type": "text"
      },
      "source": [
        "<a href=\"https://colab.research.google.com/github/Haldar18/Intership/blob/main/TensorFlow_1.ipynb\" target=\"_parent\"><img src=\"https://colab.research.google.com/assets/colab-badge.svg\" alt=\"Open In Colab\"/></a>"
      ]
    },
    {
      "cell_type": "code",
      "execution_count": 1,
      "metadata": {
        "colab": {
          "base_uri": "https://localhost:8080/"
        },
        "id": "rlHu-zaLYJKk",
        "outputId": "140d3b5f-bb87-453c-f97f-fb3b569653bb"
      },
      "outputs": [
        {
          "output_type": "stream",
          "name": "stdout",
          "text": [
            "\u001b[31mERROR: Could not find a version that satisfies the requirement tensorflow==1.4 (from versions: 2.8.0rc0, 2.8.0rc1, 2.8.0, 2.8.1, 2.8.2, 2.8.3, 2.8.4, 2.9.0rc0, 2.9.0rc1, 2.9.0rc2, 2.9.0, 2.9.1, 2.9.2, 2.9.3, 2.10.0rc0, 2.10.0rc1, 2.10.0rc2, 2.10.0rc3, 2.10.0, 2.10.1, 2.11.0rc0, 2.11.0rc1, 2.11.0rc2, 2.11.0, 2.11.1, 2.12.0rc0, 2.12.0rc1, 2.12.0, 2.12.1, 2.13.0rc0, 2.13.0rc1, 2.13.0rc2, 2.13.0, 2.14.0rc0, 2.14.0rc1)\u001b[0m\u001b[31m\n",
            "\u001b[0m\u001b[31mERROR: No matching distribution found for tensorflow==1.4\u001b[0m\u001b[31m\n",
            "\u001b[0m"
          ]
        }
      ],
      "source": [
        "!pip install tensorflow==1.4"
      ]
    },
    {
      "cell_type": "code",
      "source": [
        "import tensorflow as tf"
      ],
      "metadata": {
        "id": "AxYbkRvoYhCC"
      },
      "execution_count": 2,
      "outputs": []
    },
    {
      "cell_type": "code",
      "source": [
        "tf.__version__\n"
      ],
      "metadata": {
        "colab": {
          "base_uri": "https://localhost:8080/",
          "height": 35
        },
        "id": "AdsiUJPLYpp-",
        "outputId": "6f86cbcc-d49c-49b8-a7c7-e54be1af280c"
      },
      "execution_count": 5,
      "outputs": [
        {
          "output_type": "execute_result",
          "data": {
            "text/plain": [
              "'2.13.0'"
            ],
            "application/vnd.google.colaboratory.intrinsic+json": {
              "type": "string"
            }
          },
          "metadata": {},
          "execution_count": 5
        }
      ]
    },
    {
      "cell_type": "code",
      "source": [
        "# to define a constant\n",
        "hello_constant =tf.constant('Hello World!!')\n",
        "hello_constant"
      ],
      "metadata": {
        "colab": {
          "base_uri": "https://localhost:8080/"
        },
        "id": "Px1-KW9vYspL",
        "outputId": "984c00f1-810a-4644-e64e-8a05959d168d"
      },
      "execution_count": 6,
      "outputs": [
        {
          "output_type": "execute_result",
          "data": {
            "text/plain": [
              "<tf.Tensor: shape=(), dtype=string, numpy=b'Hello World!!'>"
            ]
          },
          "metadata": {},
          "execution_count": 6
        }
      ]
    },
    {
      "cell_type": "code",
      "source": [
        "#Create tensorflow object called tensor\n",
        "\n",
        "with tf.compat.v1.Session() as sess:\n",
        "  hello_constant =tf.constant('Hello World!!')\n",
        "  #Run the constant operation in the session\n",
        "  output=sess.run(hello_constant)\n",
        "  print(output)"
      ],
      "metadata": {
        "colab": {
          "base_uri": "https://localhost:8080/"
        },
        "id": "eMKRZLjsZJK0",
        "outputId": "83d3b779-32dc-4477-ac91-dcacb7fa30bf"
      },
      "execution_count": 10,
      "outputs": [
        {
          "output_type": "stream",
          "name": "stdout",
          "text": [
            "b'Hello World!!'\n"
          ]
        }
      ]
    },
    {
      "cell_type": "code",
      "source": [
        "#Tensor\n",
        "\n",
        "with tf.Graph().as_default():\n",
        "  c1=tf.constant(4,dtype=tf.float64,name='c')\n",
        "  c2=tf.constant(4,dtype=tf.int32,name='c')\n",
        "  c3=tf.constant(4,dtype=tf.int32,name='c')\n",
        "  print(c1.name)\n",
        "  print(c2.name)\n",
        "  print(c3.name)"
      ],
      "metadata": {
        "colab": {
          "base_uri": "https://localhost:8080/"
        },
        "id": "-PmtstWgZuGJ",
        "outputId": "a52c23fe-d9f1-4564-d2e3-cb312f2b71d6"
      },
      "execution_count": 12,
      "outputs": [
        {
          "output_type": "stream",
          "name": "stdout",
          "text": [
            "c:0\n",
            "c_1:0\n",
            "c_2:0\n"
          ]
        }
      ]
    },
    {
      "cell_type": "code",
      "source": [
        "tf.compat.v1.disable_eager_execution()"
      ],
      "metadata": {
        "colab": {
          "base_uri": "https://localhost:8080/",
          "height": 321
        },
        "id": "BEfPBp5YekuB",
        "outputId": "bc499a02-c1cb-431b-eaae-70bb80e93d83"
      },
      "execution_count": 22,
      "outputs": [
        {
          "output_type": "error",
          "ename": "ValueError",
          "evalue": "ignored",
          "traceback": [
            "\u001b[0;31m---------------------------------------------------------------------------\u001b[0m",
            "\u001b[0;31mValueError\u001b[0m                                Traceback (most recent call last)",
            "\u001b[0;32m<ipython-input-22-650dd8b5c1e5>\u001b[0m in \u001b[0;36m<cell line: 1>\u001b[0;34m()\u001b[0m\n\u001b[0;32m----> 1\u001b[0;31m \u001b[0mtf\u001b[0m\u001b[0;34m.\u001b[0m\u001b[0mcompat\u001b[0m\u001b[0;34m.\u001b[0m\u001b[0mv1\u001b[0m\u001b[0;34m.\u001b[0m\u001b[0menable_eager_execution\u001b[0m\u001b[0;34m(\u001b[0m\u001b[0;34m)\u001b[0m\u001b[0;34m\u001b[0m\u001b[0;34m\u001b[0m\u001b[0m\n\u001b[0m",
            "\u001b[0;32m/usr/local/lib/python3.10/dist-packages/tensorflow/python/framework/ops.py\u001b[0m in \u001b[0;36menable_eager_execution\u001b[0;34m(config, device_policy, execution_mode)\u001b[0m\n\u001b[1;32m   5622\u001b[0m   \u001b[0mlogging\u001b[0m\u001b[0;34m.\u001b[0m\u001b[0mvlog\u001b[0m\u001b[0;34m(\u001b[0m\u001b[0;36m1\u001b[0m\u001b[0;34m,\u001b[0m \u001b[0;34m\"Enabling eager execution\"\u001b[0m\u001b[0;34m)\u001b[0m\u001b[0;34m\u001b[0m\u001b[0;34m\u001b[0m\u001b[0m\n\u001b[1;32m   5623\u001b[0m   \u001b[0;32mif\u001b[0m \u001b[0mcontext\u001b[0m\u001b[0;34m.\u001b[0m\u001b[0mdefault_execution_mode\u001b[0m \u001b[0;34m!=\u001b[0m \u001b[0mcontext\u001b[0m\u001b[0;34m.\u001b[0m\u001b[0mEAGER_MODE\u001b[0m\u001b[0;34m:\u001b[0m\u001b[0;34m\u001b[0m\u001b[0;34m\u001b[0m\u001b[0m\n\u001b[0;32m-> 5624\u001b[0;31m     return enable_eager_execution_internal(\n\u001b[0m\u001b[1;32m   5625\u001b[0m         \u001b[0mconfig\u001b[0m\u001b[0;34m=\u001b[0m\u001b[0mconfig\u001b[0m\u001b[0;34m,\u001b[0m\u001b[0;34m\u001b[0m\u001b[0;34m\u001b[0m\u001b[0m\n\u001b[1;32m   5626\u001b[0m         \u001b[0mdevice_policy\u001b[0m\u001b[0;34m=\u001b[0m\u001b[0mdevice_policy\u001b[0m\u001b[0;34m,\u001b[0m\u001b[0;34m\u001b[0m\u001b[0;34m\u001b[0m\u001b[0m\n",
            "\u001b[0;32m/usr/local/lib/python3.10/dist-packages/tensorflow/python/framework/ops.py\u001b[0m in \u001b[0;36menable_eager_execution_internal\u001b[0;34m(config, device_policy, execution_mode, server_def)\u001b[0m\n\u001b[1;32m   5686\u001b[0m         _default_graph_stack._global_default_graph is not None)  # pylint: disable=protected-access\n\u001b[1;32m   5687\u001b[0m     \u001b[0;32mif\u001b[0m \u001b[0mgraph_mode_has_been_used\u001b[0m\u001b[0;34m:\u001b[0m\u001b[0;34m\u001b[0m\u001b[0;34m\u001b[0m\u001b[0m\n\u001b[0;32m-> 5688\u001b[0;31m       raise ValueError(\n\u001b[0m\u001b[1;32m   5689\u001b[0m           \"tf.enable_eager_execution must be called at program startup.\")\n\u001b[1;32m   5690\u001b[0m   \u001b[0mcontext\u001b[0m\u001b[0;34m.\u001b[0m\u001b[0mdefault_execution_mode\u001b[0m \u001b[0;34m=\u001b[0m \u001b[0mcontext\u001b[0m\u001b[0;34m.\u001b[0m\u001b[0mEAGER_MODE\u001b[0m\u001b[0;34m\u001b[0m\u001b[0;34m\u001b[0m\u001b[0m\n",
            "\u001b[0;31mValueError\u001b[0m: tf.enable_eager_execution must be called at program startup."
          ]
        }
      ]
    },
    {
      "cell_type": "code",
      "source": [
        "# Grouping under the same place\n",
        "with tf.Graph().as_default():\n",
        "  c1=tf.constant(4,dtype=tf.float64,name='c')\n",
        "with tf.name_scope(\"Prefix_name\"):\n",
        "  c2=tf.constant(4,dtype=tf.int32,name='c')\n",
        "  c3=tf.constant(4,dtype=tf.int32,name='c')\n",
        "  print(c2.name)\n",
        "  print(c3.name)\n",
        "print(c1.name)\n"
      ],
      "metadata": {
        "colab": {
          "base_uri": "https://localhost:8080/"
        },
        "id": "9SIyLbEbcRAa",
        "outputId": "453c171e-28c3-4024-8897-6be969162cfb"
      },
      "execution_count": 20,
      "outputs": [
        {
          "output_type": "stream",
          "name": "stdout",
          "text": [
            "Prefix_name/c:0\n",
            "Prefix_name/c_1:0\n",
            "c:0\n"
          ]
        }
      ]
    },
    {
      "cell_type": "code",
      "source": [
        "c=tf.constant([[123,456,789],[222,333,444]])\n",
        "sess=tf.compat.v1.Session()\n",
        "sess.run(c)"
      ],
      "metadata": {
        "colab": {
          "base_uri": "https://localhost:8080/"
        },
        "id": "SlDIBthvdH9K",
        "outputId": "126cb45c-eee1-427e-d5de-3b39d181d88b"
      },
      "execution_count": 23,
      "outputs": [
        {
          "output_type": "execute_result",
          "data": {
            "text/plain": [
              "array([[123, 456, 789],\n",
              "       [222, 333, 444]], dtype=int32)"
            ]
          },
          "metadata": {},
          "execution_count": 23
        }
      ]
    },
    {
      "cell_type": "code",
      "source": [
        "#Variables\n",
        "\n",
        "with tf.compat.v1.Session() as sess :\n",
        "  int_val=tf.random.normal((1,5),0,1)\n",
        "  var=tf.Variable(int_val,name='var')\n",
        "  print('pre_run:\\n{}'.format(var))\n",
        "  init=tf.compat.v1.global_variables_initializer()\n",
        "  sess.run(init)\n",
        "  post_var=sess.run(var)\n",
        "\n",
        "print(\"\\n post run:\\n{}\".format(post_var))"
      ],
      "metadata": {
        "colab": {
          "base_uri": "https://localhost:8080/"
        },
        "id": "O6tHvD5JiBmk",
        "outputId": "02a5c86d-8732-4b28-9101-3e3a557dce53"
      },
      "execution_count": 9,
      "outputs": [
        {
          "output_type": "stream",
          "name": "stdout",
          "text": [
            "pre_run:\n",
            "<tf.Variable 'var_3:0' shape=(1, 5) dtype=float32>\n",
            "\n",
            " post run:\n",
            "[[ 0.5435019  0.694639   1.2012894 -1.1109173 -0.9465337]]\n"
          ]
        }
      ]
    },
    {
      "cell_type": "code",
      "source": [
        "#e TensorFlow Input\n",
        "x=tf.compat.v1.placeholder(tf.string)\n",
        "with tf.compat.v1.Session() as sess:\n",
        "  output=sess.run(x,feed_dict={x:'test'})\n",
        "  print(output)"
      ],
      "metadata": {
        "colab": {
          "base_uri": "https://localhost:8080/"
        },
        "id": "fObOLhlOjaTO",
        "outputId": "260cce85-cb7a-4891-f1f1-dd8ad5454302"
      },
      "execution_count": 14,
      "outputs": [
        {
          "output_type": "stream",
          "name": "stdout",
          "text": [
            "test\n"
          ]
        }
      ]
    },
    {
      "cell_type": "code",
      "source": [
        "tf.compat.v1.disable_eager_execution()"
      ],
      "metadata": {
        "id": "jId1Eg9a-0CR"
      },
      "execution_count": 15,
      "outputs": []
    },
    {
      "cell_type": "code",
      "source": [
        "import tensorflow.compat.v1 as tf\n",
        "# more than 1 variable\n",
        "x=tf.placeholder(tf.string)\n",
        "y=tf.placeholder(tf.int32)\n",
        "z=tf.placeholder(tf.float32)\n",
        "with tf.Session() as sess :\n",
        "  output_x=sess.run(x,feed_dict={x:'Test String',y:123,z:34.3})\n",
        "  output_y=sess.run(y,feed_dict={y:234})\n",
        "print(output_x)\n",
        "print(output_y)"
      ],
      "metadata": {
        "colab": {
          "base_uri": "https://localhost:8080/"
        },
        "id": "hzQ_Z5SC_3P5",
        "outputId": "60cca5dc-ebff-4f2b-aee5-d1c8ffa22895"
      },
      "execution_count": 17,
      "outputs": [
        {
          "output_type": "stream",
          "name": "stdout",
          "text": [
            "Test String\n",
            "234\n"
          ]
        }
      ]
    },
    {
      "cell_type": "code",
      "source": [
        "x=tf.placeholder('float',None)\n",
        "y=x*2\n",
        "with tf.Session() as sess :\n",
        "  result=sess.run(y,feed_dict={x:[123]})\n",
        "print(result)"
      ],
      "metadata": {
        "colab": {
          "base_uri": "https://localhost:8080/"
        },
        "id": "ZUeG7_eLByNe",
        "outputId": "82a0b0e4-8602-42d5-a7fd-6845fca67390"
      },
      "execution_count": 21,
      "outputs": [
        {
          "output_type": "stream",
          "name": "stdout",
          "text": [
            "[246.]\n"
          ]
        }
      ]
    },
    {
      "cell_type": "code",
      "source": [],
      "metadata": {
        "id": "nyWKAqEoCUXV"
      },
      "execution_count": null,
      "outputs": []
    }
  ]
}